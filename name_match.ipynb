{
 "metadata": {
  "language_info": {
   "codemirror_mode": {
    "name": "ipython",
    "version": 3
   },
   "file_extension": ".py",
   "mimetype": "text/x-python",
   "name": "python",
   "nbconvert_exporter": "python",
   "pygments_lexer": "ipython3",
   "version": "3.7.7-final"
  },
  "orig_nbformat": 2,
  "kernelspec": {
   "name": "python3",
   "display_name": "Python 3",
   "language": "python"
  }
 },
 "nbformat": 4,
 "nbformat_minor": 2,
 "cells": [
  {
   "cell_type": "code",
   "execution_count": 1,
   "metadata": {},
   "outputs": [],
   "source": [
    "import pandas as pd\n",
    "import numpy as np\n",
    "import matplotlib.pyplot as plt\n",
    "import seaborn as sns\n",
    "%matplotlib inline\n",
    "from urllib.request import urlopen\n",
    "from bs4 import BeautifulSoup\n",
    "from selenium import webdriver\n",
    "from selenium.webdriver.common.by import By\n",
    "from selenium.common.exceptions import NoSuchElementException\n",
    "import requests"
   ]
  },
  {
   "source": [
    "### a function to replace multiple portions (in the form of a list) of string by one common string"
   ],
   "cell_type": "markdown",
   "metadata": {}
  },
  {
   "cell_type": "code",
   "execution_count": 2,
   "metadata": {},
   "outputs": [],
   "source": [
    "def replaceMultiple(mainString, toBeReplaces, newString):\n",
    "    # Iterate over the strings to be replaced\n",
    "    for elem in toBeReplaces :\n",
    "        # Check if string is in the main string\n",
    "        if elem in mainString :\n",
    "            # Replace the string\n",
    "            mainString = mainString.replace(elem, newString)\n",
    "    \n",
    "    return  mainString"
   ]
  },
  {
   "cell_type": "code",
   "execution_count": 3,
   "metadata": {},
   "outputs": [],
   "source": [
    "# open the two spread sheets in data frames\n",
    "df_county=pd.read_excel('data_born_pol.xlsx', index_col=0)\n",
    "df_rel = pd.read_excel('data_state_county_religion_final.xlsx', index_col=0)"
   ]
  },
  {
   "cell_type": "code",
   "execution_count": 39,
   "metadata": {},
   "outputs": [],
   "source": [
    "# a dictionary for data entry\n",
    "dic_final={}\n",
    "\n",
    "# count for dictionary entry\n",
    "count = 0\n",
    "\n",
    "not_found = {}\n",
    "n1 = 0\n",
    "\n",
    "# loop over each politician name in the religion dataframe\n",
    "for each in df_rel['pol_name']:\n",
    "\n",
    "    match_found = 0\n",
    "\n",
    "    # flag identifies if the name has not yet been matched in the county dataframe\n",
    "    flag = 0\n",
    "\n",
    "    # store different parts of the name in a list after removing the titles\n",
    "    temp_name1 = replaceMultiple(each, [\", Jr.\", \", Sr.\"],\"\").split(' ')\n",
    "\n",
    "    # store the name of the religion of that politician\n",
    "    \n",
    "    res_st = df_rel.loc[df_rel['pol_name']==each].iloc[0,1]\n",
    "    born_st = df_rel.loc[df_rel['pol_name']==each].iloc[0,2]\n",
    "    born_county = df_rel.loc[df_rel['pol_name']==each].iloc[0,3]\n",
    "    rel = df_rel.loc[df_rel['pol_name']==each].iloc[0,4]\n",
    "\n",
    "    df_sub = df_county[df_county['state'] == born_st][df_county['county'] == born_county]\n",
    "\n",
    "    # if a name has not yet been matched\n",
    "    if(flag == 0):\n",
    "        # loop over the politician names in county dataframe\n",
    "        for item in df_sub['pol_name']:\n",
    "\n",
    "            # identifies the number of word in the name that have been matched\n",
    "            id = 1\n",
    "\n",
    "            # if a name has not yet been matched\n",
    "            if(flag == 0):\n",
    "\n",
    "                # store different parts of the name in a list after removing the titles\n",
    "                temp_name2 = replaceMultiple(item, [\", Jr.\", \", Jr. \", \", Sr.\", \", Sr. \"],\"\").split(' ')\n",
    "\n",
    "                # loop over each word in the politician name from religion dataframe\n",
    "                for i in np.arange(len(temp_name1)):\n",
    "\n",
    "                    # if a name has not yet been matched\n",
    "                    if(flag == 0):\n",
    "\n",
    "                            # loop over each word in the politician name from religion dataframe\n",
    "                            for j in np.arange(len(temp_name2)):\n",
    "                                \n",
    "                                # if the words match and the words do not contain abbreviated portions\n",
    "                                if((temp_name1[i] == temp_name2[j]) & (('.' in temp_name1[i]) == False) & (('.' in temp_name2[j]) == False)):\n",
    "\n",
    "                                    # if two words in the name have been matched \n",
    "                                    if(id==2):\n",
    "\n",
    "                                        # find the corresponding county name\n",
    "                                        #birth_county = df_sub.loc[df_county['pol_name']==item].iloc[0,1]\n",
    "\n",
    "                                        # find the corresponding state name\n",
    "                                        #birth_st = df_sub.loc[df_county['pol_name']==item].iloc[0,0]\n",
    "\n",
    "                                        # save the data as a new dictionary entry\n",
    "                                        dic_final[count] = {'residence state': res_st, 'birth state': born_st, 'birth_county': born_county, 'pol_name_religion': each, 'pol_name_county': item, 'religion': rel }\n",
    "                                        # a name was matched and now the code should jump to the outer most loop\n",
    "                                        flag = 1 \n",
    "                                        match_found = 1\n",
    "\n",
    "                                        # increase the counter\n",
    "                                        count += 1\n",
    "\n",
    "                                        # reset the id to 1\n",
    "                                        id = 1\n",
    "\n",
    "                                        break\n",
    "\n",
    "                                    else:\n",
    "                                        # if words match for the first time, increase value of id\n",
    "                                        id += 1\n",
    "\n",
    "    if match_found == 0:\n",
    "        not_found[n1] = {'residence state': res_st, 'birth state': born_st, 'birth_county': born_county, 'pol_name_religion': each, 'religion': rel }\n",
    "        n1+=1"
   ]
  },
  {
   "cell_type": "code",
   "execution_count": 40,
   "metadata": {},
   "outputs": [],
   "source": [
    "# convert dictionary to dataframe\n",
    "df_final=pd.DataFrame.from_dict(dic_final).T\n",
    "df_unmatched =  pd.DataFrame.from_dict(not_found).T\n",
    "\n",
    "# convert dataframe to excel file\n",
    "df_final.to_excel('data_name_match.xlsx',engine='xlsxwriter')\n",
    "df_unmatched.to_excel('data_name_no_match.xlsx',engine='xlsxwriter')"
   ]
  },
  {
   "cell_type": "code",
   "execution_count": 23,
   "metadata": {},
   "outputs": [
    {
     "output_type": "execute_result",
     "data": {
      "text/plain": [
       "15579"
      ]
     },
     "metadata": {},
     "execution_count": 23
    }
   ],
   "source": []
  },
  {
   "cell_type": "code",
   "execution_count": 32,
   "metadata": {},
   "outputs": [
    {
     "output_type": "execute_result",
     "data": {
      "text/plain": [
       "       state          county                     pol_name\n",
       "277  Alabama  Madison County             Edward A. O'Neal\n",
       "278  Alabama  Madison County               Enoch H. Vance\n",
       "279  Alabama  Madison County              David D. Shelby\n",
       "280  Alabama  Madison County            Arthur Cartwright\n",
       "281  Alabama  Madison County                 Percy Walker\n",
       "282  Alabama  Madison County             Jeremiah Clemens\n",
       "283  Alabama  Madison County      Andrew Jackson Hamilton\n",
       "284  Alabama  Madison County  Clement Claiborne Clay, Jr.\n",
       "285  Alabama  Madison County              Leroy P. Walker\n",
       "286  Alabama  Madison County                 James Phelan\n",
       "287  Alabama  Madison County         Richard Wilde Walker\n",
       "288  Alabama  Madison County             John H. Caldwell\n",
       "289  Alabama  Madison County                 Walker Fearn\n",
       "290  Alabama  Madison County                 Clarke Lewis\n",
       "291  Alabama  Madison County              William M. Lowe\n",
       "292  Alabama  Madison County            Gordon J. Russell\n",
       "293  Alabama  Madison County                Macgrane Coxe\n",
       "294  Alabama  Madison County            Alfred W. Donegan\n",
       "295  Alabama  Madison County             George A. Gordon\n",
       "296  Alabama  Madison County               Inzer B. Wyatt\n",
       "297  Alabama  Madison County              Macon L. Weaver\n",
       "298  Alabama  Madison County             Joseph E. Lowery\n",
       "299  Alabama  Madison County          John L. Cashin, Jr.\n",
       "300  Alabama  Madison County                   Bud Cramer\n",
       "301  Alabama  Madison County                 Wayne Parker\n",
       "302  Alabama  Madison County              Terri A. Sewell\n",
       "303  Alabama  Madison County           Morgan C. Hamilton\n",
       "304  Alabama  Madison County           Joseph W. Matthews\n",
       "305  Alabama  Madison County         William Robert Moore\n",
       "306  Alabama  Madison County               Henry H. Balch"
      ],
      "text/html": "<div>\n<style scoped>\n    .dataframe tbody tr th:only-of-type {\n        vertical-align: middle;\n    }\n\n    .dataframe tbody tr th {\n        vertical-align: top;\n    }\n\n    .dataframe thead th {\n        text-align: right;\n    }\n</style>\n<table border=\"1\" class=\"dataframe\">\n  <thead>\n    <tr style=\"text-align: right;\">\n      <th></th>\n      <th>state</th>\n      <th>county</th>\n      <th>pol_name</th>\n    </tr>\n  </thead>\n  <tbody>\n    <tr>\n      <th>277</th>\n      <td>Alabama</td>\n      <td>Madison County</td>\n      <td>Edward A. O'Neal</td>\n    </tr>\n    <tr>\n      <th>278</th>\n      <td>Alabama</td>\n      <td>Madison County</td>\n      <td>Enoch H. Vance</td>\n    </tr>\n    <tr>\n      <th>279</th>\n      <td>Alabama</td>\n      <td>Madison County</td>\n      <td>David D. Shelby</td>\n    </tr>\n    <tr>\n      <th>280</th>\n      <td>Alabama</td>\n      <td>Madison County</td>\n      <td>Arthur Cartwright</td>\n    </tr>\n    <tr>\n      <th>281</th>\n      <td>Alabama</td>\n      <td>Madison County</td>\n      <td>Percy Walker</td>\n    </tr>\n    <tr>\n      <th>282</th>\n      <td>Alabama</td>\n      <td>Madison County</td>\n      <td>Jeremiah Clemens</td>\n    </tr>\n    <tr>\n      <th>283</th>\n      <td>Alabama</td>\n      <td>Madison County</td>\n      <td>Andrew Jackson Hamilton</td>\n    </tr>\n    <tr>\n      <th>284</th>\n      <td>Alabama</td>\n      <td>Madison County</td>\n      <td>Clement Claiborne Clay, Jr.</td>\n    </tr>\n    <tr>\n      <th>285</th>\n      <td>Alabama</td>\n      <td>Madison County</td>\n      <td>Leroy P. Walker</td>\n    </tr>\n    <tr>\n      <th>286</th>\n      <td>Alabama</td>\n      <td>Madison County</td>\n      <td>James Phelan</td>\n    </tr>\n    <tr>\n      <th>287</th>\n      <td>Alabama</td>\n      <td>Madison County</td>\n      <td>Richard Wilde Walker</td>\n    </tr>\n    <tr>\n      <th>288</th>\n      <td>Alabama</td>\n      <td>Madison County</td>\n      <td>John H. Caldwell</td>\n    </tr>\n    <tr>\n      <th>289</th>\n      <td>Alabama</td>\n      <td>Madison County</td>\n      <td>Walker Fearn</td>\n    </tr>\n    <tr>\n      <th>290</th>\n      <td>Alabama</td>\n      <td>Madison County</td>\n      <td>Clarke Lewis</td>\n    </tr>\n    <tr>\n      <th>291</th>\n      <td>Alabama</td>\n      <td>Madison County</td>\n      <td>William M. Lowe</td>\n    </tr>\n    <tr>\n      <th>292</th>\n      <td>Alabama</td>\n      <td>Madison County</td>\n      <td>Gordon J. Russell</td>\n    </tr>\n    <tr>\n      <th>293</th>\n      <td>Alabama</td>\n      <td>Madison County</td>\n      <td>Macgrane Coxe</td>\n    </tr>\n    <tr>\n      <th>294</th>\n      <td>Alabama</td>\n      <td>Madison County</td>\n      <td>Alfred W. Donegan</td>\n    </tr>\n    <tr>\n      <th>295</th>\n      <td>Alabama</td>\n      <td>Madison County</td>\n      <td>George A. Gordon</td>\n    </tr>\n    <tr>\n      <th>296</th>\n      <td>Alabama</td>\n      <td>Madison County</td>\n      <td>Inzer B. Wyatt</td>\n    </tr>\n    <tr>\n      <th>297</th>\n      <td>Alabama</td>\n      <td>Madison County</td>\n      <td>Macon L. Weaver</td>\n    </tr>\n    <tr>\n      <th>298</th>\n      <td>Alabama</td>\n      <td>Madison County</td>\n      <td>Joseph E. Lowery</td>\n    </tr>\n    <tr>\n      <th>299</th>\n      <td>Alabama</td>\n      <td>Madison County</td>\n      <td>John L. Cashin, Jr.</td>\n    </tr>\n    <tr>\n      <th>300</th>\n      <td>Alabama</td>\n      <td>Madison County</td>\n      <td>Bud Cramer</td>\n    </tr>\n    <tr>\n      <th>301</th>\n      <td>Alabama</td>\n      <td>Madison County</td>\n      <td>Wayne Parker</td>\n    </tr>\n    <tr>\n      <th>302</th>\n      <td>Alabama</td>\n      <td>Madison County</td>\n      <td>Terri A. Sewell</td>\n    </tr>\n    <tr>\n      <th>303</th>\n      <td>Alabama</td>\n      <td>Madison County</td>\n      <td>Morgan C. Hamilton</td>\n    </tr>\n    <tr>\n      <th>304</th>\n      <td>Alabama</td>\n      <td>Madison County</td>\n      <td>Joseph W. Matthews</td>\n    </tr>\n    <tr>\n      <th>305</th>\n      <td>Alabama</td>\n      <td>Madison County</td>\n      <td>William Robert Moore</td>\n    </tr>\n    <tr>\n      <th>306</th>\n      <td>Alabama</td>\n      <td>Madison County</td>\n      <td>Henry H. Balch</td>\n    </tr>\n  </tbody>\n</table>\n</div>"
     },
     "metadata": {},
     "execution_count": 32
    }
   ],
   "source": [
    "df_county[df_county['state'] == born_st][df_county['county'] == \"Madison County\"]"
   ]
  },
  {
   "cell_type": "code",
   "execution_count": 8,
   "metadata": {},
   "outputs": [
    {
     "output_type": "execute_result",
     "data": {
      "text/plain": [
       "       Unnamed: 0.1 lived_state                           born_state  \\\n",
       "0                 0     Alabama                              Alabama   \n",
       "1                 1     Alabama                              Alabama   \n",
       "2                 2     Alabama                              Alabama   \n",
       "3                 3     Alabama                              Alabama   \n",
       "4                 4     Alabama                              Alabama   \n",
       "...             ...         ...                                  ...   \n",
       "20176         20176        none  second cousin five times removed of   \n",
       "20177         20177        none                             Virginia   \n",
       "20178         20178        none                             Michigan   \n",
       "20179         20179        none                             Delaware   \n",
       "20180         20180        none                             New York   \n",
       "\n",
       "              born_county       religion                   pol_name  \n",
       "0        Jefferson County      Methodist  Oscar William Adams, Jr.   \n",
       "1          Winston County      Methodist     Robert Brown Aderholt   \n",
       "2           Blount County      Methodist     Miles Clayton Allgood   \n",
       "3         Lawrence County      Methodist       Edward Berton Almon   \n",
       "4           Mobile County      Methodist      Julian Leigh Andrews   \n",
       "...                   ...            ...                        ...  \n",
       "20176     Lithgow Osborne          Deist         Benjamin Franklin   \n",
       "20177    Albemarle County          Deist          Thomas Jefferson   \n",
       "20178        Wayne County  Scientologist                Sonny Bono   \n",
       "20179   New Castle County  Scientologist          Stephen A. Davis   \n",
       "20180  Schenectady County          Hindu            Kumar P. Barve   \n",
       "\n",
       "[20181 rows x 6 columns]"
      ],
      "text/html": "<div>\n<style scoped>\n    .dataframe tbody tr th:only-of-type {\n        vertical-align: middle;\n    }\n\n    .dataframe tbody tr th {\n        vertical-align: top;\n    }\n\n    .dataframe thead th {\n        text-align: right;\n    }\n</style>\n<table border=\"1\" class=\"dataframe\">\n  <thead>\n    <tr style=\"text-align: right;\">\n      <th></th>\n      <th>Unnamed: 0.1</th>\n      <th>lived_state</th>\n      <th>born_state</th>\n      <th>born_county</th>\n      <th>religion</th>\n      <th>pol_name</th>\n    </tr>\n  </thead>\n  <tbody>\n    <tr>\n      <th>0</th>\n      <td>0</td>\n      <td>Alabama</td>\n      <td>Alabama</td>\n      <td>Jefferson County</td>\n      <td>Methodist</td>\n      <td>Oscar William Adams, Jr.</td>\n    </tr>\n    <tr>\n      <th>1</th>\n      <td>1</td>\n      <td>Alabama</td>\n      <td>Alabama</td>\n      <td>Winston County</td>\n      <td>Methodist</td>\n      <td>Robert Brown Aderholt</td>\n    </tr>\n    <tr>\n      <th>2</th>\n      <td>2</td>\n      <td>Alabama</td>\n      <td>Alabama</td>\n      <td>Blount County</td>\n      <td>Methodist</td>\n      <td>Miles Clayton Allgood</td>\n    </tr>\n    <tr>\n      <th>3</th>\n      <td>3</td>\n      <td>Alabama</td>\n      <td>Alabama</td>\n      <td>Lawrence County</td>\n      <td>Methodist</td>\n      <td>Edward Berton Almon</td>\n    </tr>\n    <tr>\n      <th>4</th>\n      <td>4</td>\n      <td>Alabama</td>\n      <td>Alabama</td>\n      <td>Mobile County</td>\n      <td>Methodist</td>\n      <td>Julian Leigh Andrews</td>\n    </tr>\n    <tr>\n      <th>...</th>\n      <td>...</td>\n      <td>...</td>\n      <td>...</td>\n      <td>...</td>\n      <td>...</td>\n      <td>...</td>\n    </tr>\n    <tr>\n      <th>20176</th>\n      <td>20176</td>\n      <td>none</td>\n      <td>second cousin five times removed of</td>\n      <td>Lithgow Osborne</td>\n      <td>Deist</td>\n      <td>Benjamin Franklin</td>\n    </tr>\n    <tr>\n      <th>20177</th>\n      <td>20177</td>\n      <td>none</td>\n      <td>Virginia</td>\n      <td>Albemarle County</td>\n      <td>Deist</td>\n      <td>Thomas Jefferson</td>\n    </tr>\n    <tr>\n      <th>20178</th>\n      <td>20178</td>\n      <td>none</td>\n      <td>Michigan</td>\n      <td>Wayne County</td>\n      <td>Scientologist</td>\n      <td>Sonny Bono</td>\n    </tr>\n    <tr>\n      <th>20179</th>\n      <td>20179</td>\n      <td>none</td>\n      <td>Delaware</td>\n      <td>New Castle County</td>\n      <td>Scientologist</td>\n      <td>Stephen A. Davis</td>\n    </tr>\n    <tr>\n      <th>20180</th>\n      <td>20180</td>\n      <td>none</td>\n      <td>New York</td>\n      <td>Schenectady County</td>\n      <td>Hindu</td>\n      <td>Kumar P. Barve</td>\n    </tr>\n  </tbody>\n</table>\n<p>20181 rows × 6 columns</p>\n</div>"
     },
     "metadata": {},
     "execution_count": 8
    }
   ],
   "source": [
    "df_rel"
   ]
  },
  {
   "cell_type": "code",
   "execution_count": 9,
   "metadata": {},
   "outputs": [
    {
     "output_type": "execute_result",
     "data": {
      "text/plain": [
       "           state               county               pol_name\n",
       "0        Alabama       Autauga County            Rush Elmore\n",
       "1        Alabama       Autauga County   Marcus H. Cruikshank\n",
       "2        Alabama       Autauga County  Malcolm Daniel Graham\n",
       "3        Alabama       Autauga County          Douglas Booth\n",
       "4        Alabama       Autauga County       Daniel H. Thomas\n",
       "...          ...                  ...                    ...\n",
       "41996  Wisconsin  Miscellaneous Areas             Leo J. Fox\n",
       "41997  Wisconsin  Miscellaneous Areas      Richard J. Greuel\n",
       "41998  Wisconsin  Miscellaneous Areas     Jalmar M. Kerttula\n",
       "41999  Wisconsin  Miscellaneous Areas            Joan Heggen\n",
       "42000  Wisconsin  Miscellaneous Areas         Bruce A. Smith\n",
       "\n",
       "[42001 rows x 3 columns]"
      ],
      "text/html": "<div>\n<style scoped>\n    .dataframe tbody tr th:only-of-type {\n        vertical-align: middle;\n    }\n\n    .dataframe tbody tr th {\n        vertical-align: top;\n    }\n\n    .dataframe thead th {\n        text-align: right;\n    }\n</style>\n<table border=\"1\" class=\"dataframe\">\n  <thead>\n    <tr style=\"text-align: right;\">\n      <th></th>\n      <th>state</th>\n      <th>county</th>\n      <th>pol_name</th>\n    </tr>\n  </thead>\n  <tbody>\n    <tr>\n      <th>0</th>\n      <td>Alabama</td>\n      <td>Autauga County</td>\n      <td>Rush Elmore</td>\n    </tr>\n    <tr>\n      <th>1</th>\n      <td>Alabama</td>\n      <td>Autauga County</td>\n      <td>Marcus H. Cruikshank</td>\n    </tr>\n    <tr>\n      <th>2</th>\n      <td>Alabama</td>\n      <td>Autauga County</td>\n      <td>Malcolm Daniel Graham</td>\n    </tr>\n    <tr>\n      <th>3</th>\n      <td>Alabama</td>\n      <td>Autauga County</td>\n      <td>Douglas Booth</td>\n    </tr>\n    <tr>\n      <th>4</th>\n      <td>Alabama</td>\n      <td>Autauga County</td>\n      <td>Daniel H. Thomas</td>\n    </tr>\n    <tr>\n      <th>...</th>\n      <td>...</td>\n      <td>...</td>\n      <td>...</td>\n    </tr>\n    <tr>\n      <th>41996</th>\n      <td>Wisconsin</td>\n      <td>Miscellaneous Areas</td>\n      <td>Leo J. Fox</td>\n    </tr>\n    <tr>\n      <th>41997</th>\n      <td>Wisconsin</td>\n      <td>Miscellaneous Areas</td>\n      <td>Richard J. Greuel</td>\n    </tr>\n    <tr>\n      <th>41998</th>\n      <td>Wisconsin</td>\n      <td>Miscellaneous Areas</td>\n      <td>Jalmar M. Kerttula</td>\n    </tr>\n    <tr>\n      <th>41999</th>\n      <td>Wisconsin</td>\n      <td>Miscellaneous Areas</td>\n      <td>Joan Heggen</td>\n    </tr>\n    <tr>\n      <th>42000</th>\n      <td>Wisconsin</td>\n      <td>Miscellaneous Areas</td>\n      <td>Bruce A. Smith</td>\n    </tr>\n  </tbody>\n</table>\n<p>42001 rows × 3 columns</p>\n</div>"
     },
     "metadata": {},
     "execution_count": 9
    }
   ],
   "source": [
    "df_county"
   ]
  },
  {
   "cell_type": "code",
   "execution_count": null,
   "metadata": {},
   "outputs": [],
   "source": []
  }
 ]
}